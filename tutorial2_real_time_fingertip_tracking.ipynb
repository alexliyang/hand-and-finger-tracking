{
 "cells": [
  {
   "cell_type": "markdown",
   "metadata": {},
   "source": [
    "#### Prepared by: Yerbol Aussat\n",
    "#### CS-889. University of Waterloo\n",
    "\n"
   ]
  },
  {
   "cell_type": "markdown",
   "metadata": {},
   "source": [
    "# Real-Time Finger Tracking"
   ]
  },
  {
   "cell_type": "markdown",
   "metadata": {},
   "source": [
    "# Helper Functions"
   ]
  },
  {
   "cell_type": "code",
   "execution_count": 39,
   "metadata": {},
   "outputs": [],
   "source": [
    "# Import necessary libraries and helper functions\n",
    "%matplotlib inline\n",
    "import numpy as np\n",
    "import matplotlib.pyplot as plt\n",
    "import cv2\n",
    "import random\n",
    "from helpers import imshow"
   ]
  },
  {
   "cell_type": "code",
   "execution_count": 40,
   "metadata": {},
   "outputs": [],
   "source": [
    "# Method that generates mask that segments out skin regions \n",
    "def segment_skin_hsv(img):\n",
    "    # Convert image to HSV\n",
    "    hsv = cv2.cvtColor(img,cv2.COLOR_BGR2HSV)\n",
    "\n",
    "    # define range of hsv (for skin color)\n",
    "    min_HSV = np.array([0, 58, 30], dtype = \"uint8\")\n",
    "    max_HSV = np.array([33, 255, 255], dtype = \"uint8\")\n",
    "\n",
    "    # create a mask and clean it up\n",
    "    mask = cv2.inRange(hsv, min_HSV, max_HSV)\n",
    "    mask = cv2.morphologyEx(mask, cv2.MORPH_CLOSE, None, iterations = 5)\n",
    "    mask = cv2.morphologyEx(mask, cv2.MORPH_OPEN, None, iterations = 5)\n",
    "    mask = cv2.medianBlur(mask, 5)   \n",
    "    \n",
    "    return mask"
   ]
  },
  {
   "cell_type": "code",
   "execution_count": 44,
   "metadata": {},
   "outputs": [],
   "source": [
    "def segment_skin_ycrcb(img):\n",
    "    # Convert image to YCrCb\n",
    "    imageYCrCb = cv2.cvtColor(img,cv2.COLOR_BGR2YCR_CB)    \n",
    "    \n",
    "    # Constants for finding range of skin color in YCrCb\n",
    "    min_YCrCb = np.array([0,133,77],np.uint8)\n",
    "    max_YCrCb = np.array([255,173,127],np.uint8)\n",
    "\n",
    "    # Find region with skin tone in YCrCb image\n",
    "    mask = cv2.inRange(imageYCrCb,min_YCrCb,max_YCrCb)\n",
    "#     mask = cv2.morphologyEx(mask, cv2.MORPH_CLOSE, None, iterations = 5)\n",
    "    mask = cv2.morphologyEx(mask, cv2.MORPH_OPEN, None, iterations = 3)\n",
    "    mask = cv2.medianBlur(mask, 5)   \n",
    "    \n",
    "    return mask"
   ]
  },
  {
   "cell_type": "code",
   "execution_count": 45,
   "metadata": {},
   "outputs": [],
   "source": [
    "def getHandContours(mask):\n",
    "    # Get the contour of the hand and draw it on the original image\n",
    "    im2, contours, hierarchy = cv2.findContours(mask, cv2.RETR_EXTERNAL, cv2.CHAIN_APPROX_NONE)\n",
    "    \n",
    "    # Calculate areas\n",
    "    areas = [cv2.contourArea(cont) for cont in contours]\n",
    "    \n",
    "    # Only keep the largest contour\n",
    "    if len(contours) == 0:\n",
    "        return\n",
    "    cnt = contours[np.argmax(areas)]\n",
    "    return cnt"
   ]
  },
  {
   "cell_type": "code",
   "execution_count": 72,
   "metadata": {},
   "outputs": [],
   "source": [
    "# Helper function to find angle between two vectors\n",
    "def get_angle(v1, v2):\n",
    "    v1 = v1 / np.linalg.norm(v1) # unit vector v1\n",
    "    v2 = v2 / np.linalg.norm(v2) # unit vector v2\n",
    "    cos_theta = np.dot(v1, v2) \n",
    "    return np.arccos(cos_theta)*(180/np.pi)\n",
    "\n",
    "# Helper function to find distance between two vectors\n",
    "def dist(v1, v2):\n",
    "    return np.linalg.norm(np.array(v1)-v2)"
   ]
  },
  {
   "cell_type": "code",
   "execution_count": 116,
   "metadata": {},
   "outputs": [],
   "source": [
    "# # Helper function that updates an array of stored points, corresponding to \n",
    "# # valleys or peaks)\n",
    "# pointDict: {index -> k_curv}\n",
    "\n",
    "def update(pointDict, j, kCurv, samplePoints):\n",
    "    \n",
    "    for i in pointDict:\n",
    "        \n",
    "        # if index j is close to one of the stored indices \n",
    "        if abs(i-j) <= 10 or abs(i-j) >= len(samplePoints) - 10:\n",
    "            \n",
    "            # if k-curvature of point j is smaller, replace i by it\n",
    "            if kCurv < pointDict[i]:\n",
    "                pointDict[j] = kCurv\n",
    "                del pointDict[i]\n",
    "            return pointDict                        \n",
    "    pointDict[j] = kCurv\n",
    "    return pointDict"
   ]
  },
  {
   "cell_type": "code",
   "execution_count": 117,
   "metadata": {},
   "outputs": [],
   "source": [
    "def getPeaksAndValleys(samplePoints, thresh_angle, k):\n",
    "    peaks = {} # Dictionary that stores points corresponding to fingertips\n",
    "    valleys = {} # Dictionary that stores points corresponding to spaces\n",
    "\n",
    "    for j in range(len(samplePoints)):\n",
    "\n",
    "        # determine points corresponding to indices j-k, j and j+k\n",
    "        jCoord = samplePoints[j][0]\n",
    "        minusK = samplePoints[(j-k)%len(samplePoints)][0]\n",
    "        plusK = samplePoints[(j+k)%len(samplePoints)][0]\n",
    "\n",
    "        kCurv = get_angle(minusK - jCoord, plusK - jCoord)\n",
    "\n",
    "        if kCurv <= thresh_angle:\n",
    "\n",
    "            orientation = np.cross(minusK - jCoord, plusK - jCoord)\n",
    "\n",
    "            if orientation >= 0:\n",
    "                peaks = update(peaks, j, kCurv, samplePoints)\n",
    "            else:\n",
    "                valleys = update(valleys, j, kCurv, samplePoints)\n",
    "    return peaks, valleys"
   ]
  },
  {
   "cell_type": "markdown",
   "metadata": {},
   "source": [
    "# Real-Time Finger Tracking Code"
   ]
  },
  {
   "cell_type": "code",
   "execution_count": 127,
   "metadata": {},
   "outputs": [
    {
     "name": "stdout",
     "output_type": "stream",
     "text": [
      "No contours found\n"
     ]
    },
    {
     "name": "stderr",
     "output_type": "stream",
     "text": [
      "/usr/local/lib/python2.7/site-packages/ipykernel_launcher.py:6: RuntimeWarning: invalid value encountered in arccos\n",
      "  \n"
     ]
    },
    {
     "data": {
      "image/png": "[encoded data removed]",
      "text/plain": [
       "<matplotlib.figure.Figure at 0x114485490>"
      ]
     },
     "metadata": {},
     "output_type": "display_data"
    }
   ],
   "source": [
    "camera = cv2.VideoCapture(0)\n",
    "# reduce frame size to speed it up\n",
    "w = 640\n",
    "camera.set(cv2.CAP_PROP_FRAME_WIDTH, w) \n",
    "camera.set(cv2.CAP_PROP_FRAME_HEIGHT, w * 3/4) \n",
    "camera.set(cv2.CAP_PROP_EXPOSURE,-4) \n",
    "\n",
    "# k-curvature parameters:\n",
    "k = 5\n",
    "thresh_angle = 70\n",
    "\n",
    "\n",
    "while True:\n",
    "    # Get frame and flip it\n",
    "    ret, frame = camera.read()\n",
    "    frame = cv2.flip(frame, 1)\n",
    "\n",
    "    frame = cv2.medianBlur(frame,5) # Apply median blur\n",
    "    mask = segment_skin_ycrcb(frame) # Get mask\n",
    "    cv2.imshow(\"MASK\", mask)\n",
    "    cnt = getHandContours(mask) # Hand Contour\n",
    "    \n",
    "    # If contour is None or too small, continue\n",
    "    if cnt is None or len(cnt) <= 300:\n",
    "        print \"No contours found\"\n",
    "        continue\n",
    "    \n",
    "    # Get sample points\n",
    "    interval = len(cnt)/100\n",
    "    sample_points = cnt[0:len(cnt):interval]    \n",
    "    \n",
    "    # Draw sample points\n",
    "    for i in range(len(sample_points)):\n",
    "        cv2.circle(frame, tuple(sample_points[i][0]), 1, (0, 0, 255), 2) \n",
    "    \n",
    "    # Get and draw peaks and valleys\n",
    "    peaks, valleys = getPeaksAndValleys(sample_points, thresh_angle, k)\n",
    "    \n",
    "    for i in peaks:\n",
    "        cv2.circle(frame, tuple(sample_points[i][0]), 10, (255, 0, 0), 2)         \n",
    "    for i in valleys:\n",
    "        cv2.circle(frame, tuple(sample_points[i][0]), 10, (0, 255, 0), 2)\n",
    "        \n",
    "    if cv2.waitKey(5) == 27:\n",
    "        break \n",
    "    elif cv2.waitKey(5) == 32:\n",
    "        cv2.imwrite(\"saved_frame.jpg\", frame) \n",
    "        imshow(frame)\n",
    "    \n",
    "    cv2.imshow(\"VideoFrame\", frame)\n",
    "\n",
    "cv2.destroyAllWindows()\n",
    "camera.release()\n"
   ]
  },
  {
   "cell_type": "markdown",
   "metadata": {},
   "source": [
    "# Real-Time Finger and Hand Tracking"
   ]
  },
  {
   "cell_type": "code",
   "execution_count": 128,
   "metadata": {},
   "outputs": [],
   "source": [
    "# Method that returns maximum inscribed circle\n",
    "def get_palm_circle(contour, mask):\n",
    "    dist_max = np.zeros((mask.shape[0], mask.shape[1]))\n",
    "    for y in range(0, mask.shape[0], 4):\n",
    "        for x in range(0, mask.shape[1], 4):\n",
    "            if mask[y, x]:\n",
    "                dist_max[y, x] = cv2.pointPolygonTest(contour, (x, y), True)\n",
    "\n",
    "    min_val, max_val, min_loc, max_loc = cv2.minMaxLoc(dist_max)\n",
    "    return max_loc, max_val"
   ]
  },
  {
   "cell_type": "code",
   "execution_count": null,
   "metadata": {},
   "outputs": [],
   "source": []
  },
  {
   "cell_type": "code",
   "execution_count": null,
   "metadata": {},
   "outputs": [],
   "source": []
  },
  {
   "cell_type": "code",
   "execution_count": null,
   "metadata": {},
   "outputs": [
    {
     "name": "stderr",
     "output_type": "stream",
     "text": [
      "/usr/local/lib/python2.7/site-packages/ipykernel_launcher.py:6: RuntimeWarning: invalid value encountered in arccos\n",
      "  \n"
     ]
    }
   ],
   "source": [
    "camera = cv2.VideoCapture(0)\n",
    "# reduce frame size to speed it up\n",
    "w = 640\n",
    "camera.set(cv2.CAP_PROP_FRAME_WIDTH, w) \n",
    "camera.set(cv2.CAP_PROP_FRAME_HEIGHT, w * 3/4) \n",
    "camera.set(cv2.CAP_PROP_EXPOSURE,-4) \n",
    "\n",
    "# k-curvature parameters:\n",
    "k = 5\n",
    "thresh_angle = 70\n",
    "\n",
    "\n",
    "while True:\n",
    "    # Get frame and flip it\n",
    "    ret, frame = camera.read()\n",
    "    frame = cv2.flip(frame, 1)\n",
    "\n",
    "    frame = cv2.medianBlur(frame,5) # Apply median blur\n",
    "    mask = segment_skin_ycrcb(frame) # Get mask\n",
    "    cv2.imshow(\"MASK\", mask)\n",
    "    cnt = getHandContours(mask) # Hand Contour\n",
    "    \n",
    "    # If contour is None or too small, continue\n",
    "    if cnt is None or len(cnt) <= 300:\n",
    "        print \"No contours found\"\n",
    "        continue\n",
    "    \n",
    "    # Draw palm\n",
    "    palm_center, palm_radius = get_palm_circle(cnt, mask)\n",
    "    cv2.circle(frame, palm_center, int(palm_radius), (0,255,255), 3)\n",
    "    cv2.circle(frame, palm_center, 1, (0,255,255), 6)\n",
    "    \n",
    "    # Get sample points\n",
    "    interval = len(cnt)/100\n",
    "    sample_points = cnt[0:len(cnt):interval]    \n",
    "    \n",
    "    # Draw sample points\n",
    "    for i in range(len(sample_points)):\n",
    "        cv2.circle(frame, tuple(sample_points[i][0]), 1, (0, 0, 255), 2) \n",
    "    \n",
    "    # Get and draw peaks and valleys\n",
    "    peaks, valleys = getPeaksAndValleys(sample_points, thresh_angle, k)\n",
    "    \n",
    "    for i in peaks:\n",
    "        cv2.circle(frame, tuple(sample_points[i][0]), 10, (255, 0, 0), 2) \n",
    "        drawFingerOrientation(frame, sample_points, k, i, palm_radius)\n",
    "    \n",
    "        \n",
    "    if cv2.waitKey(5) == 27:\n",
    "        break \n",
    "    elif cv2.waitKey(5) == 32:\n",
    "        cv2.imwrite(\"saved_frame.jpg\", frame) \n",
    "        imshow(frame)\n",
    "    \n",
    "    cv2.imshow(\"VideoFrame\", frame)\n",
    "\n",
    "cv2.destroyAllWindows()\n",
    "camera.release()\n"
   ]
  },
  {
   "cell_type": "code",
   "execution_count": null,
   "metadata": {},
   "outputs": [],
   "source": [
    "def drawFingerOrientation(frame, samplePoints, k, j, palm_radius):                \n",
    "    \n",
    "    # get a midpoint between C(i-k) and C(i+k)\n",
    "    jCoord = samplePoints[j][0]\n",
    "    plusK = samplePoints[(j + k)%len(samplePoints)][0]\n",
    "    minusK = samplePoints[(j - k)%len(samplePoints)][0]    \n",
    "    mid_finger = np.mean([minusK, plusK], axis=0).astype(int)\n",
    "    \n",
    "    orientation = np.cross([100, 0], mid_finger - jCoord) # whether cross product points up or down\n",
    "    angle = np.sign(orientation) * get_angle([100, 0],  mid_finger - jCoord)*3.14/180.0\n",
    "        \n",
    "    # Point 1\n",
    "    x1 = sample_points[i%len(sample_points)][0][0] + palm_radius * np.cos(angle)\n",
    "    y1 = sample_points[i%len(sample_points)][0][1] + palm_radius * np.sin(angle)\n",
    "    point1 = [int(x1), int(y1)]\n",
    "\n",
    "    # Point 2\n",
    "    x2 = sample_points[i%len(sample_points)][0][0] - 3*palm_radius * np.cos(angle)\n",
    "    y2 = sample_points[i%len(sample_points)][0][1] - 3*palm_radius * np.sin(angle)\n",
    "    point2 = [int(x2), int(y2)]    \n",
    "    \n",
    "    cv2.line(frame, tuple(point1), tuple(point2), (255, 255, 255), 3)"
   ]
  },
  {
   "cell_type": "code",
   "execution_count": null,
   "metadata": {},
   "outputs": [],
   "source": []
  }
 ],
 "metadata": {
  "kernelspec": {
   "display_name": "Python 2",
   "language": "python",
   "name": "python2"
  },
  "language_info": {
   "codemirror_mode": {
    "name": "ipython",
    "version": 2
   },
   "file_extension": ".py",
   "mimetype": "text/x-python",
   "name": "python",
   "nbconvert_exporter": "python",
   "pygments_lexer": "ipython2",
   "version": "2.7.14"
  }
 },
 "nbformat": 4,
 "nbformat_minor": 2
}
