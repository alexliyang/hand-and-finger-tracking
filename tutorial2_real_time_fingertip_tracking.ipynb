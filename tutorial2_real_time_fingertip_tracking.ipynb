{
 "cells": [
  {
   "cell_type": "markdown",
   "metadata": {},
   "source": [
    "#### Prepared by: Yerbol Aussat\n",
    "#### CS-889. University of Waterloo\n",
    "\n"
   ]
  },
  {
   "cell_type": "markdown",
   "metadata": {},
   "source": [
    "# Real-Time Finger Tracking"
   ]
  },
  {
   "cell_type": "markdown",
   "metadata": {},
   "source": [
    "# Helper Functions"
   ]
  },
  {
   "cell_type": "code",
   "execution_count": 2,
   "metadata": {},
   "outputs": [],
   "source": [
    "# Import necessary libraries and helper functions\n",
    "%matplotlib inline\n",
    "import numpy as np\n",
    "import matplotlib.pyplot as plt\n",
    "import cv2\n",
    "import random\n",
    "from helpers import imshow"
   ]
  },
  {
   "cell_type": "code",
   "execution_count": 3,
   "metadata": {},
   "outputs": [],
   "source": [
    "# Method that generates mask that segments out skin regions \n",
    "def segment_skin_hsv(img):\n",
    "    # Convert image to HSV\n",
    "    hsv = cv2.cvtColor(img,cv2.COLOR_BGR2HSV)\n",
    "\n",
    "    # define range of hsv (for skin color)\n",
    "    min_HSV = np.array([0, 58, 30], dtype = \"uint8\")\n",
    "    max_HSV = np.array([33, 255, 255], dtype = \"uint8\")\n",
    "\n",
    "    # create a mask and clean it up\n",
    "    mask = cv2.inRange(hsv, min_HSV, max_HSV)\n",
    "    mask = cv2.morphologyEx(mask, cv2.MORPH_CLOSE, None, iterations = 5)\n",
    "    mask = cv2.morphologyEx(mask, cv2.MORPH_OPEN, None, iterations = 5)\n",
    "    mask = cv2.medianBlur(mask, 5)   \n",
    "    \n",
    "    return mask"
   ]
  },
  {
   "cell_type": "code",
   "execution_count": 11,
   "metadata": {},
   "outputs": [],
   "source": [
    "def segment_skin_ycrcb(img):\n",
    "    # Convert image to YCrCb\n",
    "    imageYCrCb = cv2.cvtColor(img,cv2.COLOR_BGR2YCR_CB)    \n",
    "    \n",
    "    # Constants for finding range of skin color in YCrCb\n",
    "    min_YCrCb = np.array([0,133,77],np.uint8)\n",
    "    max_YCrCb = np.array([255,173,127],np.uint8)\n",
    "\n",
    "    # Find region with skin tone in YCrCb image\n",
    "    mask = cv2.inRange(imageYCrCb,min_YCrCb,max_YCrCb)\n",
    "#     mask = cv2.morphologyEx(mask, cv2.MORPH_CLOSE, None, iterations = 5)\n",
    "    mask = cv2.morphologyEx(mask, cv2.MORPH_OPEN, None, iterations = 3)\n",
    "    mask = cv2.medianBlur(mask, 5)   \n",
    "    \n",
    "    return mask"
   ]
  },
  {
   "cell_type": "code",
   "execution_count": 4,
   "metadata": {},
   "outputs": [],
   "source": [
    "\n",
    "def getHandContours(mask):\n",
    "    # Get the contour of the hand and draw it on the original image\n",
    "    im2, contours, hierarchy = cv2.findContours(mask, cv2.RETR_EXTERNAL, cv2.CHAIN_APPROX_SIMPLE)\n",
    "    \n",
    "    # Calculate areas\n",
    "    areas = [cv2.contourArea(cont) for cont in contours]\n",
    "    \n",
    "    # Only keep the largest contour\n",
    "    if len(contours) == 0:\n",
    "        return\n",
    "    cnt = contours[np.argmax(areas)]\n",
    "    return cnt"
   ]
  },
  {
   "cell_type": "markdown",
   "metadata": {},
   "source": [
    "# Real-Time Finger Tracking Code"
   ]
  },
  {
   "cell_type": "code",
   "execution_count": 38,
   "metadata": {},
   "outputs": [
    {
     "name": "stderr",
     "output_type": "stream",
     "text": [
      "/usr/local/lib/python2.7/site-packages/scipy/interpolate/_fitpack_impl.py:226: RuntimeWarning: Setting x[0][1208]=x[0][0]\n",
      "  (i, m, i)))\n",
      "/usr/local/lib/python2.7/site-packages/scipy/interpolate/_fitpack_impl.py:226: RuntimeWarning: Setting x[0][744]=x[0][0]\n",
      "  (i, m, i)))\n"
     ]
    }
   ],
   "source": [
    "camera = cv2.VideoCapture(0)\n",
    "# reduce frame size to speed it up\n",
    "w = 640\n",
    "camera.set(cv2.CAP_PROP_FRAME_WIDTH, w) \n",
    "camera.set(cv2.CAP_PROP_FRAME_HEIGHT, w * 3/4) \n",
    "camera.set(cv2.CAP_PROP_EXPOSURE,-4) \n",
    "\n",
    "\n",
    "while True:\n",
    "    # Get frame and flip it\n",
    "    ret, frame = camera.read()\n",
    "    frame = cv2.flip(frame, 1)\n",
    "\n",
    "    frame = cv2.medianBlur(frame,5) # Apply median blur\n",
    "    mask = segment_skin_ycrcb(frame) # Mask\n",
    "    cv2.imshow(\"MASK\", mask)\n",
    "    cnt = getHandContours(mask) # Hand Contour\n",
    "    \n",
    "    if cnt is None or len(cnt) <= 400:\n",
    "        print \"No contours found\"\n",
    "\n",
    "    else:        \n",
    "        cnt2 = smoothenContour(cnt, 10)    \n",
    "        cv2.drawContours(frame, [cnt], 0, (0,255,0), 2)\n",
    "        \n",
    "    if cv2.waitKey(5) == 27:\n",
    "        break  \n",
    "        \n",
    "    cv2.imshow(\"VideoFrame\", frame)\n",
    "\n",
    "cv2.destroyAllWindows()\n",
    "camera.release()\n"
   ]
  },
  {
   "cell_type": "code",
   "execution_count": null,
   "metadata": {},
   "outputs": [],
   "source": []
  },
  {
   "cell_type": "code",
   "execution_count": null,
   "metadata": {},
   "outputs": [],
   "source": []
  }
 ],
 "metadata": {
  "kernelspec": {
   "display_name": "Python 2",
   "language": "python",
   "name": "python2"
  },
  "language_info": {
   "codemirror_mode": {
    "name": "ipython",
    "version": 2
   },
   "file_extension": ".py",
   "mimetype": "text/x-python",
   "name": "python",
   "nbconvert_exporter": "python",
   "pygments_lexer": "ipython2",
   "version": "2.7.14"
  }
 },
 "nbformat": 4,
 "nbformat_minor": 2
}
